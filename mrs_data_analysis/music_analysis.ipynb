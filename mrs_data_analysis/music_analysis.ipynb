{
 "cells": [
  {
   "cell_type": "code",
   "execution_count": 1,
   "metadata": {},
   "outputs": [],
   "source": [
    "#pip install spotipy"
   ]
  },
  {
   "cell_type": "code",
   "execution_count": 2,
   "metadata": {},
   "outputs": [],
   "source": [
    "import spotipy\n",
    "from spotipy.oauth2 import SpotifyOAuth\n",
    "import pprint"
   ]
  },
  {
   "cell_type": "code",
   "execution_count": 3,
   "metadata": {},
   "outputs": [],
   "source": [
    "cid = '25d521b807f44fc19a8b202da4c88248'\n",
    "secret = 'd06c3e35075f4c7cb28347e6620067cf'\n",
    "redirect_uri = 'http://localhost:8080/callback'\n",
    "sp = spotipy.Spotify(auth_manager=SpotifyOAuth(client_id=cid, client_secret=secret, redirect_uri=redirect_uri))"
   ]
  },
  {
   "cell_type": "code",
   "execution_count": 5,
   "metadata": {},
   "outputs": [
    {
     "name": "stdout",
     "output_type": "stream",
     "text": [
      "{'artists': {'href': 'https://api.spotify.com/v1/search?query=publiq&type=artist&offset=0&limit=2',\n",
      "             'items': [{'external_urls': {'spotify': 'https://open.spotify.com/artist/2FEdyVgGMSclOsYJ4wAQUY'},\n",
      "                        'followers': {'href': None, 'total': 54190},\n",
      "                        'genres': ['bedroom soul'],\n",
      "                        'href': 'https://api.spotify.com/v1/artists/2FEdyVgGMSclOsYJ4wAQUY',\n",
      "                        'id': '2FEdyVgGMSclOsYJ4wAQUY',\n",
      "                        'images': [{'height': 640,\n",
      "                                    'url': 'https://i.scdn.co/image/ab6761610000e5eb8395c2a4ef6b76070d5644c2',\n",
      "                                    'width': 640},\n",
      "                                   {'height': 320,\n",
      "                                    'url': 'https://i.scdn.co/image/ab676161000051748395c2a4ef6b76070d5644c2',\n",
      "                                    'width': 320},\n",
      "                                   {'height': 160,\n",
      "                                    'url': 'https://i.scdn.co/image/ab6761610000f1788395c2a4ef6b76070d5644c2',\n",
      "                                    'width': 160}],\n",
      "                        'name': 'Public Library Commute',\n",
      "                        'popularity': 48,\n",
      "                        'type': 'artist',\n",
      "                        'uri': 'spotify:artist:2FEdyVgGMSclOsYJ4wAQUY'},\n",
      "                       {'external_urls': {'spotify': 'https://open.spotify.com/artist/6TDlE9zvWHq3VtLeFj4NlT'},\n",
      "                        'followers': {'href': None, 'total': 4},\n",
      "                        'genres': [],\n",
      "                        'href': 'https://api.spotify.com/v1/artists/6TDlE9zvWHq3VtLeFj4NlT',\n",
      "                        'id': '6TDlE9zvWHq3VtLeFj4NlT',\n",
      "                        'images': [{'height': 640,\n",
      "                                    'url': 'https://i.scdn.co/image/ab6761610000e5ebffb17f2a10ae3a2720cf0462',\n",
      "                                    'width': 640},\n",
      "                                   {'height': 320,\n",
      "                                    'url': 'https://i.scdn.co/image/ab67616100005174ffb17f2a10ae3a2720cf0462',\n",
      "                                    'width': 320},\n",
      "                                   {'height': 160,\n",
      "                                    'url': 'https://i.scdn.co/image/ab6761610000f178ffb17f2a10ae3a2720cf0462',\n",
      "                                    'width': 160}],\n",
      "                        'name': 'PUBLIQ',\n",
      "                        'popularity': 0,\n",
      "                        'type': 'artist',\n",
      "                        'uri': 'spotify:artist:6TDlE9zvWHq3VtLeFj4NlT'}],\n",
      "             'limit': 2,\n",
      "             'next': 'https://api.spotify.com/v1/search?query=publiq&type=artist&offset=2&limit=2',\n",
      "             'offset': 0,\n",
      "             'previous': None,\n",
      "             'total': 30}}\n"
     ]
    }
   ],
   "source": [
    "result = sp.search('publiq',limit=2,type = 'artist')\n",
    "pprint.pprint(result)\n"
   ]
  }
 ],
 "metadata": {
  "kernelspec": {
   "display_name": ".venv",
   "language": "python",
   "name": "python3"
  },
  "language_info": {
   "codemirror_mode": {
    "name": "ipython",
    "version": 3
   },
   "file_extension": ".py",
   "mimetype": "text/x-python",
   "name": "python",
   "nbconvert_exporter": "python",
   "pygments_lexer": "ipython3",
   "version": "3.11.5"
  }
 },
 "nbformat": 4,
 "nbformat_minor": 2
}
