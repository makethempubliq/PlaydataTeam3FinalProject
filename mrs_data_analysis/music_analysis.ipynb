{
 "cells": [
  {
   "cell_type": "code",
   "execution_count": 4,
   "metadata": {},
   "outputs": [
    {
     "name": "stdout",
     "output_type": "stream",
     "text": [
      "Requirement already satisfied: spotipy in c:\\users\\playdata\\appdata\\local\\programs\\python\\python312\\lib\\site-packages (2.23.0)\n",
      "Requirement already satisfied: redis>=3.5.3 in c:\\users\\playdata\\appdata\\local\\programs\\python\\python312\\lib\\site-packages (from spotipy) (5.0.4)\n",
      "Requirement already satisfied: requests>=2.25.0 in c:\\users\\playdata\\appdata\\local\\programs\\python\\python312\\lib\\site-packages (from spotipy) (2.31.0)\n",
      "Requirement already satisfied: six>=1.15.0 in c:\\users\\playdata\\appdata\\roaming\\python\\python312\\site-packages (from spotipy) (1.16.0)\n",
      "Requirement already satisfied: urllib3>=1.26.0 in c:\\users\\playdata\\appdata\\local\\programs\\python\\python312\\lib\\site-packages (from spotipy) (2.2.1)\n",
      "Requirement already satisfied: charset-normalizer<4,>=2 in c:\\users\\playdata\\appdata\\local\\programs\\python\\python312\\lib\\site-packages (from requests>=2.25.0->spotipy) (3.3.2)\n",
      "Requirement already satisfied: idna<4,>=2.5 in c:\\users\\playdata\\appdata\\local\\programs\\python\\python312\\lib\\site-packages (from requests>=2.25.0->spotipy) (3.7)\n",
      "Requirement already satisfied: certifi>=2017.4.17 in c:\\users\\playdata\\appdata\\local\\programs\\python\\python312\\lib\\site-packages (from requests>=2.25.0->spotipy) (2024.2.2)\n",
      "Note: you may need to restart the kernel to use updated packages.\n"
     ]
    }
   ],
   "source": [
    "pip install spotipy"
   ]
  },
  {
   "cell_type": "code",
   "execution_count": 5,
   "metadata": {},
   "outputs": [],
   "source": [
    "import spotipy\n",
    "from spotipy.oauth2 import SpotifyOAuth\n",
    "import pprint"
   ]
  },
  {
   "cell_type": "code",
   "execution_count": 6,
   "metadata": {},
   "outputs": [],
   "source": [
    "cid = '25d521b807f44fc19a8b202da4c88248'\n",
    "secret = 'd06c3e35075f4c7cb28347e6620067cf'\n",
    "redirect_uri = 'http://localhost:8080/callback'\n",
    "sp = spotipy.Spotify(auth_manager=SpotifyOAuth(client_id=cid, client_secret=secret, redirect_uri=redirect_uri))"
   ]
  },
  {
   "cell_type": "code",
   "execution_count": 7,
   "metadata": {},
   "outputs": [
    {
     "name": "stdout",
     "output_type": "stream",
     "text": [
      "{'artists': {'href': 'https://api.spotify.com/v1/search?query=publiq&type=artist&offset=0&limit=2',\n",
      "             'items': [{'external_urls': {'spotify': 'https://open.spotify.com/artist/2FEdyVgGMSclOsYJ4wAQUY'},\n",
      "                        'followers': {'href': None, 'total': 54905},\n",
      "                        'genres': ['bedroom soul'],\n",
      "                        'href': 'https://api.spotify.com/v1/artists/2FEdyVgGMSclOsYJ4wAQUY',\n",
      "                        'id': '2FEdyVgGMSclOsYJ4wAQUY',\n",
      "                        'images': [{'height': 640,\n",
      "                                    'url': 'https://i.scdn.co/image/ab6761610000e5eb8395c2a4ef6b76070d5644c2',\n",
      "                                    'width': 640},\n",
      "                                   {'height': 320,\n",
      "                                    'url': 'https://i.scdn.co/image/ab676161000051748395c2a4ef6b76070d5644c2',\n",
      "                                    'width': 320},\n",
      "                                   {'height': 160,\n",
      "                                    'url': 'https://i.scdn.co/image/ab6761610000f1788395c2a4ef6b76070d5644c2',\n",
      "                                    'width': 160}],\n",
      "                        'name': 'Public Library Commute',\n",
      "                        'popularity': 47,\n",
      "                        'type': 'artist',\n",
      "                        'uri': 'spotify:artist:2FEdyVgGMSclOsYJ4wAQUY'},\n",
      "                       {'external_urls': {'spotify': 'https://open.spotify.com/artist/6TDlE9zvWHq3VtLeFj4NlT'},\n",
      "                        'followers': {'href': None, 'total': 4},\n",
      "                        'genres': [],\n",
      "                        'href': 'https://api.spotify.com/v1/artists/6TDlE9zvWHq3VtLeFj4NlT',\n",
      "                        'id': '6TDlE9zvWHq3VtLeFj4NlT',\n",
      "                        'images': [{'height': 640,\n",
      "                                    'url': 'https://i.scdn.co/image/ab6761610000e5ebffb17f2a10ae3a2720cf0462',\n",
      "                                    'width': 640},\n",
      "                                   {'height': 320,\n",
      "                                    'url': 'https://i.scdn.co/image/ab67616100005174ffb17f2a10ae3a2720cf0462',\n",
      "                                    'width': 320},\n",
      "                                   {'height': 160,\n",
      "                                    'url': 'https://i.scdn.co/image/ab6761610000f178ffb17f2a10ae3a2720cf0462',\n",
      "                                    'width': 160}],\n",
      "                        'name': 'PUBLIQ',\n",
      "                        'popularity': 0,\n",
      "                        'type': 'artist',\n",
      "                        'uri': 'spotify:artist:6TDlE9zvWHq3VtLeFj4NlT'}],\n",
      "             'limit': 2,\n",
      "             'next': 'https://api.spotify.com/v1/search?query=publiq&type=artist&offset=2&limit=2',\n",
      "             'offset': 0,\n",
      "             'previous': None,\n",
      "             'total': 39}}\n"
     ]
    },
    {
     "data": {
      "text/plain": [
       "[None]"
      ]
     },
     "execution_count": 7,
     "metadata": {},
     "output_type": "execute_result"
    }
   ],
   "source": [
    "result = sp.search('publiq',limit=2,type = 'artist')\n",
    "pprint.pprint(result)\n",
    "sp.audio_features(tracks='6TDlE9zvWHq3VtLeFj4NlT')\n"
   ]
  },
  {
   "cell_type": "code",
   "execution_count": 8,
   "metadata": {},
   "outputs": [],
   "source": [
    "def get_features(song, artist):\n",
    "    # get track id information\n",
    "    track_info = sp.search(q=f\"track%2520{song}%2520artist%2520{artist}\", type='track')\n",
    "    track_id = track_info[\"tracks\"][\"items\"][0][\"id\"]\n",
    "    # get audio_feature\n",
    "    features = sp.audio_features(tracks=[track_id])\n",
    "    track_name = track_info[\"tracks\"][\"items\"][0][\"name\"]\n",
    "    artist_id = track_info[\"tracks\"][\"items\"][0][\"artists\"][0][\"id\"]\n",
    "    artist_name = track_info[\"tracks\"][\"items\"][0][\"artists\"][0][\"name\"]\n",
    "    acousticness = features[0][\"acousticness\"]\n",
    "    danceability = features[0][\"danceability\"]\n",
    "    energy = features[0][\"energy\"]\n",
    "    liveness = features[0][\"liveness\"]\n",
    "    loudness = features[0][\"loudness\"]\n",
    "    valence = features[0][\"valence\"]\n",
    "    mode = features[0][\"mode\"]\n",
    "    result = {  \"artist\" : artist_name,\n",
    "                \"artist_id\" : artist_id,\n",
    "                \"track_name\" : track_name,\n",
    "                \"track_id\" : track_id,\n",
    "                \"acousticness\" : acousticness,\n",
    "                \"danceability\" : danceability,\n",
    "                \"energy\" : energy,\n",
    "                \"liveness\" : liveness,\n",
    "                \"loudness\" : loudness,\n",
    "                \"valence\" : valence,\n",
    "                \"mode\" : mode}\n",
    "    return result"
   ]
  },
  {
   "cell_type": "code",
   "execution_count": 9,
   "metadata": {},
   "outputs": [
    {
     "name": "stdout",
     "output_type": "stream",
     "text": [
      "Requirement already satisfied: pandas in c:\\users\\playdata\\appdata\\local\\programs\\python\\python312\\lib\\site-packages (2.2.2)\n",
      "Requirement already satisfied: numpy>=1.26.0 in c:\\users\\playdata\\appdata\\local\\programs\\python\\python312\\lib\\site-packages (from pandas) (1.26.4)\n",
      "Requirement already satisfied: python-dateutil>=2.8.2 in c:\\users\\playdata\\appdata\\roaming\\python\\python312\\site-packages (from pandas) (2.9.0.post0)\n",
      "Requirement already satisfied: pytz>=2020.1 in c:\\users\\playdata\\appdata\\local\\programs\\python\\python312\\lib\\site-packages (from pandas) (2024.1)\n",
      "Requirement already satisfied: tzdata>=2022.7 in c:\\users\\playdata\\appdata\\local\\programs\\python\\python312\\lib\\site-packages (from pandas) (2024.1)\n",
      "Requirement already satisfied: six>=1.5 in c:\\users\\playdata\\appdata\\roaming\\python\\python312\\site-packages (from python-dateutil>=2.8.2->pandas) (1.16.0)\n",
      "Note: you may need to restart the kernel to use updated packages.\n"
     ]
    }
   ],
   "source": [
    "pip install pandas"
   ]
  },
  {
   "cell_type": "code",
   "execution_count": 10,
   "metadata": {},
   "outputs": [
    {
     "name": "stdout",
     "output_type": "stream",
     "text": [
      "Requirement already satisfied: openpyxl in c:\\users\\playdata\\appdata\\local\\programs\\python\\python312\\lib\\site-packages (3.1.2)\n",
      "Requirement already satisfied: et-xmlfile in c:\\users\\playdata\\appdata\\local\\programs\\python\\python312\\lib\\site-packages (from openpyxl) (1.1.0)\n",
      "Note: you may need to restart the kernel to use updated packages.\n"
     ]
    }
   ],
   "source": [
    "pip install openpyxl"
   ]
  },
  {
   "cell_type": "code",
   "execution_count": 11,
   "metadata": {},
   "outputs": [
    {
     "name": "stderr",
     "output_type": "stream",
     "text": [
      "C:\\Users\\Playdata\\AppData\\Local\\Temp\\ipykernel_7104\\1818866141.py:20: FutureWarning: The behavior of DataFrame concatenation with empty or all-NA entries is deprecated. In a future version, this will no longer exclude empty or all-NA columns when determining the result dtypes. To retain the old behavior, exclude the relevant entries before the concat operation.\n",
      "  new_df = pd.concat([new_df, pd.DataFrame(features, index=[0])], ignore_index=True)\n"
     ]
    },
    {
     "name": "stdout",
     "output_type": "stream",
     "text": [
      "데이터 처리 완료: 50 / 861\n",
      "쉬는중...\n",
      "데이터 처리 완료: 100 / 861\n",
      "쉬는중...\n",
      "데이터 처리 완료: 150 / 861\n",
      "쉬는중...\n",
      "데이터 처리 완료: 200 / 861\n",
      "쉬는중...\n",
      "데이터 처리 완료: 250 / 861\n",
      "쉬는중...\n",
      "데이터 처리 완료: 300 / 861\n",
      "쉬는중...\n",
      "데이터 처리 완료: 350 / 861\n",
      "쉬는중...\n",
      "데이터 처리 완료: 400 / 861\n",
      "쉬는중...\n",
      "데이터 처리 완료: 450 / 861\n",
      "쉬는중...\n",
      "데이터 처리 완료: 500 / 861\n",
      "쉬는중...\n",
      "데이터 처리 완료: 550 / 861\n",
      "쉬는중...\n",
      "데이터 처리 완료: 600 / 861\n",
      "쉬는중...\n",
      "데이터 처리 완료: 650 / 861\n",
      "쉬는중...\n",
      "데이터 처리 완료: 700 / 861\n",
      "쉬는중...\n",
      "데이터 처리 완료: 750 / 861\n",
      "쉬는중...\n",
      "데이터 처리 완료: 800 / 861\n",
      "쉬는중...\n"
     ]
    },
    {
     "ename": "IndexError",
     "evalue": "list index out of range",
     "output_type": "error",
     "traceback": [
      "\u001b[1;31m---------------------------------------------------------------------------\u001b[0m",
      "\u001b[1;31mIndexError\u001b[0m                                Traceback (most recent call last)",
      "Cell \u001b[1;32mIn[11], line 19\u001b[0m\n\u001b[0;32m     17\u001b[0m     song \u001b[38;5;241m=\u001b[39m row[\u001b[38;5;124m\"\u001b[39m\u001b[38;5;124m제목\u001b[39m\u001b[38;5;124m\"\u001b[39m]  \u001b[38;5;66;03m# 엑셀 파일에서 곡 제목이 들어있는 열의 이름\u001b[39;00m\n\u001b[0;32m     18\u001b[0m     artist \u001b[38;5;241m=\u001b[39m row[\u001b[38;5;124m\"\u001b[39m\u001b[38;5;124m아티스트\u001b[39m\u001b[38;5;124m\"\u001b[39m]  \u001b[38;5;66;03m# 엑셀 파일에서 아티스트 이름이 들어있는 열의 이름\u001b[39;00m\n\u001b[1;32m---> 19\u001b[0m     features \u001b[38;5;241m=\u001b[39m \u001b[43mget_features\u001b[49m\u001b[43m(\u001b[49m\u001b[43msong\u001b[49m\u001b[43m,\u001b[49m\u001b[43m \u001b[49m\u001b[43martist\u001b[49m\u001b[43m)\u001b[49m\n\u001b[0;32m     20\u001b[0m     new_df \u001b[38;5;241m=\u001b[39m pd\u001b[38;5;241m.\u001b[39mconcat([new_df, pd\u001b[38;5;241m.\u001b[39mDataFrame(features, index\u001b[38;5;241m=\u001b[39m[\u001b[38;5;241m0\u001b[39m])], ignore_index\u001b[38;5;241m=\u001b[39m\u001b[38;5;28;01mTrue\u001b[39;00m)\n\u001b[0;32m     21\u001b[0m \u001b[38;5;66;03m# 5분 쉬기\u001b[39;00m\n",
      "Cell \u001b[1;32mIn[8], line 4\u001b[0m, in \u001b[0;36mget_features\u001b[1;34m(song, artist)\u001b[0m\n\u001b[0;32m      1\u001b[0m \u001b[38;5;28;01mdef\u001b[39;00m \u001b[38;5;21mget_features\u001b[39m(song, artist):\n\u001b[0;32m      2\u001b[0m     \u001b[38;5;66;03m# get track id information\u001b[39;00m\n\u001b[0;32m      3\u001b[0m     track_info \u001b[38;5;241m=\u001b[39m sp\u001b[38;5;241m.\u001b[39msearch(q\u001b[38;5;241m=\u001b[39m\u001b[38;5;124mf\u001b[39m\u001b[38;5;124m\"\u001b[39m\u001b[38;5;124mtrack%2520\u001b[39m\u001b[38;5;132;01m{\u001b[39;00msong\u001b[38;5;132;01m}\u001b[39;00m\u001b[38;5;124m%2520artist%2520\u001b[39m\u001b[38;5;132;01m{\u001b[39;00martist\u001b[38;5;132;01m}\u001b[39;00m\u001b[38;5;124m\"\u001b[39m, \u001b[38;5;28mtype\u001b[39m\u001b[38;5;241m=\u001b[39m\u001b[38;5;124m'\u001b[39m\u001b[38;5;124mtrack\u001b[39m\u001b[38;5;124m'\u001b[39m)\n\u001b[1;32m----> 4\u001b[0m     track_id \u001b[38;5;241m=\u001b[39m \u001b[43mtrack_info\u001b[49m\u001b[43m[\u001b[49m\u001b[38;5;124;43m\"\u001b[39;49m\u001b[38;5;124;43mtracks\u001b[39;49m\u001b[38;5;124;43m\"\u001b[39;49m\u001b[43m]\u001b[49m\u001b[43m[\u001b[49m\u001b[38;5;124;43m\"\u001b[39;49m\u001b[38;5;124;43mitems\u001b[39;49m\u001b[38;5;124;43m\"\u001b[39;49m\u001b[43m]\u001b[49m\u001b[43m[\u001b[49m\u001b[38;5;241;43m0\u001b[39;49m\u001b[43m]\u001b[49m[\u001b[38;5;124m\"\u001b[39m\u001b[38;5;124mid\u001b[39m\u001b[38;5;124m\"\u001b[39m]\n\u001b[0;32m      5\u001b[0m     \u001b[38;5;66;03m# get audio_feature\u001b[39;00m\n\u001b[0;32m      6\u001b[0m     features \u001b[38;5;241m=\u001b[39m sp\u001b[38;5;241m.\u001b[39maudio_features(tracks\u001b[38;5;241m=\u001b[39m[track_id])\n",
      "\u001b[1;31mIndexError\u001b[0m: list index out of range"
     ]
    }
   ],
   "source": [
    "import pandas as pd\n",
    "import time\n",
    "\n",
    "# 엑셀 파일 불러오기\n",
    "excel_file = r\"C:/Users/Playdata/Desktop/excel/excel/감정/사랑.xlsx\"  # 엑셀 파일 경로\n",
    "df = pd.read_excel(excel_file)\n",
    "\n",
    "# 새로운 데이터프레임 생성\n",
    "new_df = pd.DataFrame(columns=[\"artist\", \"artist_id\", \"track_name\", \"track_id\", \"acousticness\", \"danceability\", \"energy\", \"liveness\", \"loudness\", \"valence\", \"mode\"])\n",
    "\n",
    "# 각 곡에 대해 함수를 적용하여 특성 가져오기\n",
    "batch_size = 50  # 한 번에 불러올 열의 개수\n",
    "num_rows = len(df)\n",
    "for i in range(0, num_rows, batch_size):\n",
    "    batch_df = df.iloc[i:i+batch_size]\n",
    "    for index, row in batch_df.iterrows():\n",
    "        song = row[\"제목\"]  # 엑셀 파일에서 곡 제목이 들어있는 열의 이름\n",
    "        artist = row[\"아티스트\"]  # 엑셀 파일에서 아티스트 이름이 들어있는 열의 이름\n",
    "        features = get_features(song, artist)\n",
    "        new_df = pd.concat([new_df, pd.DataFrame(features, index=[0])], ignore_index=True)\n",
    "    # 5분 쉬기\n",
    "    print(f\"데이터 처리 완료: {i + batch_size} / {num_rows}\")\n",
    "    print(\"쉬는중...\")\n",
    "    time.sleep(30)  # 5분(300초) 동안 쉬기\n",
    "\n",
    "# 새로운 데이터프레임을 엑셀 파일로 저장\n",
    "new_excel_file = r\"C:/Users/Playdata/Desktop/excel/분석파일/감정/사랑_processed.xlsx\"  # 새로운 엑셀 파일 경로\n",
    "new_df.to_excel(new_excel_file, index=False)\n"
   ]
  },
  {
   "cell_type": "code",
   "execution_count": 1,
   "metadata": {},
   "outputs": [
    {
     "ename": "SyntaxError",
     "evalue": "(unicode error) 'unicodeescape' codec can't decode bytes in position 2-3: truncated \\UXXXXXXXX escape (4001476472.py, line 3)",
     "output_type": "error",
     "traceback": [
      "\u001b[1;36m  Cell \u001b[1;32mIn[1], line 3\u001b[1;36m\u001b[0m\n\u001b[1;33m    excel_file = \"C:\\Users\\Playdata\\Desktop\\excel\\excel\\감정\\사랑.xlsx\" # 엑셀 파일 경로\u001b[0m\n\u001b[1;37m                 ^\u001b[0m\n\u001b[1;31mSyntaxError\u001b[0m\u001b[1;31m:\u001b[0m (unicode error) 'unicodeescape' codec can't decode bytes in position 2-3: truncated \\UXXXXXXXX escape\n"
     ]
    }
   ],
   "source": [
    "import pandas as pd\n",
    "# 엑셀 파일 불러오기\n",
    "excel_file = \"C:\\Users\\Playdata\\Desktop\\excel\\excel\\감정\\사랑.xlsx\" # 엑셀 파일 경로\n",
    "df = pd.read_excel(excel_file)\n",
    "# 새로운 데이터프레임 생성\n",
    "new_df = pd.DataFrame(columns=[\"artist\", \"artist_id\", \"track_name\", \"track_id\", \"acousticness\", \"danceability\", \"energy\", \"liveness\", \"loudness\", \"valence\", \"mode\"])\n",
    "# 각 곡에 대해 함수를 적용하여 특성 가져오기\n",
    "for index, row in df.iterrows():\n",
    "    song = row[\"Song\"]  # 엑셀 파일에서 곡 제목이 들어있는 열의 이름\n",
    "    artist = row[\"Artist\"]  # 엑셀 파일에서 아티스트 이름이 들어있는 열의 이름\n",
    "    features = get_features(song, artist)\n",
    "    new_df = pd.concat([new_df, pd.DataFrame(features, index=[0])], ignore_index=True)\n",
    "# new_df.head()\n",
    "# 새로운 데이터프레임을 엑셀 파일로 저장\n",
    "new_excel_file = \"C:\\Users\\Playdata\\Desktop\\excel\\분석파일\\감정\\사랑_processed.xlsx\"  # 새로운 엑셀 파일 경로\n",
    "new_df.to_excel(new_excel_file, index=False)"
   ]
  }
 ],
 "metadata": {
  "kernelspec": {
   "display_name": ".venv",
   "language": "python",
   "name": "python3"
  },
  "language_info": {
   "codemirror_mode": {
    "name": "ipython",
    "version": 3
   },
   "file_extension": ".py",
   "mimetype": "text/x-python",
   "name": "python",
   "nbconvert_exporter": "python",
   "pygments_lexer": "ipython3",
   "version": "3.12.2"
  }
 },
 "nbformat": 4,
 "nbformat_minor": 2
}
